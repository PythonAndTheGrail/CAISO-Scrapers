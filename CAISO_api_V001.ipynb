{
 "cells": [
  {
   "cell_type": "code",
   "execution_count": 1,
   "metadata": {},
   "outputs": [],
   "source": [
    "%matplotlib inline\n",
    "import os\n",
    "import pandas as pd\n",
    "import sklearn  as sk\n",
    "import matplotlib.pyplot as plt\n",
    "import numpy as np \n",
    "import urllib\n",
    "import urllib.request\n",
    "import json\n",
    "from io import BytesIO\n",
    "from zipfile import ZipFile\n",
    "import xml.etree.ElementTree as ET \n",
    "import glob\n",
    "\n",
    "import requests\n",
    "from io import BytesIO\n",
    "from zipfile import ZipFile"
   ]
  },
  {
   "cell_type": "markdown",
   "metadata": {},
   "source": [
    "###### Define main function"
   ]
  },
  {
   "cell_type": "code",
   "execution_count": 2,
   "metadata": {},
   "outputs": [],
   "source": [
    "# def main(): \n",
    "#     # gets XML file from CA ISO \n",
    "#     getXML(url) \n",
    "  \n",
    "#     # parse xml file \n",
    "#     XMLitems = parseXML('XMLfile') \n",
    "  \n",
    "#     # store news items in a csv file \n",
    "#     #savetoCSV(newsitems, 'topnews.csv') \n",
    "            \n",
    "# if __name__ == \"__main__\": \n",
    "  \n",
    "#     # calling main function \n",
    "#     main()  "
   ]
  },
  {
   "cell_type": "code",
   "execution_count": 3,
   "metadata": {},
   "outputs": [],
   "source": [
    "#https://medium.com/@robertopreste/from-xml-to-pandas-dataframes-9292980b1c1c\n",
    "#http://www.caiso.com/Documents/OASIS-InterfaceSpecification_v5_1_7Clean_Independent2019Release.pdf"
   ]
  },
  {
   "cell_type": "markdown",
   "metadata": {},
   "source": [
    "###### Create the query"
   ]
  },
  {
   "cell_type": "code",
   "execution_count": 4,
   "metadata": {},
   "outputs": [
    {
     "name": "stdout",
     "output_type": "stream",
     "text": [
      "http://oasis.caiso.com/oasisapi/SingleZip?queryname=SLD_FCST&market_run_id=DAM&resultformat=6&startdatetime=20160415T07:00-0000&enddatetime=20160416T07:00-0000&version=1\n",
      "http://oasis.caiso.com/oasisapi/SingleZip?queryname=SLD_FCST&market_run_id=DAM&resultformat=6&startdatetime=20160415T07:00-0000&enddatetime=20160416T07:00-0000&version=1\n"
     ]
    }
   ],
   "source": [
    "#More query options found in API documentation\n",
    "prices_query_opt=['PRC_LMP', 'PRC_FUEL']\n",
    "transmission_query_opt= ['TRNS_CURR_USAGE']\n",
    "sysdemand_query_opt=['SLD_FCST_PEAK','SLD_FCST','ENE_SLRS'] \n",
    "energy_query_opt=['ENE_SLRS','ENE_EA']\n",
    "ancillary_query_opt=['AS_REQ', 'AS_RESULTS']\n",
    "crr_query_opt=['CRR_CLEARING','CRR_INVENTORY']\n",
    "publicpibs_query_opt=['PUB_BID', 'PUB_CB_BID', 'PUB_CRR_BID']\n",
    "atlas_query_opt=['ATL_PNODE', 'ATL_APNODE','ATL_LDF', 'ATL_LAP','ATL_RESOURCE']\n",
    "\n",
    "# Selects from the price_query_option list defined above\n",
    "queryname= prices_query_opt[1]\n",
    "queryname1 = sysdemand_query_opt[1]\n",
    "\n",
    "# depends on the type of query\n",
    "fuel_region_id = 'ALL' \n",
    "market_run_id = 'DAM'\n",
    "\n",
    "# start and end of query (??seems to be a 31 day limit, how is this overcome??)\n",
    "#startdatetime = '20180101T00:00-0000' \n",
    "startdatetime = '20160415T07:00-0000'\n",
    "#enddatetime = '20181230T23:00-0000'\n",
    "enddatetime = '20160416T07:00-0000'\n",
    "\n",
    "url_prices = \"http://oasis.caiso.com/oasisapi/SingleZip?queryname={}&fuel_region_id={}&startdatetime={}&enddatetime={}&version=1\".format(queryname, fuel_region_id, startdatetime, enddatetime)\n",
    "#url_sysdemand = \"http://oasis.caiso.com/oasisapi/SingleZip?queryname={}&market_run_id={}&resultformat=6&tac_zone_name=ALL&schedule=ALL&startdatetime={}&enddatetime={}&version=1\".format(queryname1, market_run_id, startdatetime, enddatetime)\n",
    "url_sysdemand = \"http://oasis.caiso.com/oasisapi/SingleZip?queryname={}&market_run_id={}&resultformat=6&startdatetime={}&enddatetime={}&version=1\".format(queryname1, market_run_id, startdatetime, enddatetime)\n",
    "url_test = 'http://oasis.caiso.com/oasisapi/SingleZip?queryname=SLD_FCST&market_run_id=DAM&resultformat=6&startdatetime=20160415T07:00-0000&enddatetime=20160416T07:00-0000&version=1'\n",
    "print(url_test)\n",
    "print(url_sysdemand)\n",
    "#url = \"http://oasis.caiso.com/oasisapi/SingleZip?queryname={}&market_run_id={}&startdatetime={}&enddatetime={}&version=1\".format(queryname, market_run_id,startdatetime, enddatetime)\n"
   ]
  },
  {
   "cell_type": "markdown",
   "metadata": {},
   "source": [
    "###### Function to query CAISO API"
   ]
  },
  {
   "cell_type": "code",
   "execution_count": 5,
   "metadata": {},
   "outputs": [],
   "source": [
    "def getXML(url):\n",
    "    filepath = os.getcwd()\n",
    "\n",
    "    with urllib.request.urlopen(url) as url:\n",
    "        with ZipFile(BytesIO(url.read())) as r:\n",
    "            s = r.extractall(filepath + \"\\\\root\\\\data\\\\CA_ISO\")\n",
    "            \n",
    "#getXML(url_prices)\n",
    "getXML(url_sysdemand)"
   ]
  },
  {
   "cell_type": "markdown",
   "metadata": {},
   "source": [
    "###### Run the query (retrieves XML from CA ISO)"
   ]
  },
  {
   "cell_type": "code",
   "execution_count": 6,
   "metadata": {},
   "outputs": [],
   "source": [
    "# #alternate method\n",
    "# #gets data from API\n",
    "\n",
    "# def QueryAPI(query_name):\n",
    "#     api_url=f'http://oasis.caiso.com/oasisapi/SingleZip?queryname={query_name}&startdatetime=20180919T07:00-0000&enddatetime=20180920T07:00-0000&market_run_id=DAM&version=1'\n",
    "#     response = requests.get(api_url)\n",
    "#     zipfile = ZipFile(BytesIO(response.content))\n",
    "#     output_url= os.getcwd() + \"\\\\root\\\\data\\\\CA_ISO\"\n",
    "#     zipfile.extractall(output_url)\n",
    "\n",
    "# #QueryAPI('PRC_LMP')\n",
    "# #QueryAPI('PRC_AS')"
   ]
  },
  {
   "cell_type": "markdown",
   "metadata": {},
   "source": [
    "## Create an indexed list of available xml files and select one \"full_file\""
   ]
  },
  {
   "cell_type": "code",
   "execution_count": 7,
   "metadata": {},
   "outputs": [],
   "source": [
    "CAISO_files = (glob.glob(os.getcwd() + \"\\\\root\\\\data\\\\CA_ISO\\\\*\"))"
   ]
  },
  {
   "cell_type": "code",
   "execution_count": 8,
   "metadata": {},
   "outputs": [
    {
     "name": "stdout",
     "output_type": "stream",
     "text": [
      "(0, 'C:\\\\Users\\\\bradw\\\\Documents\\\\00 HOME Docs\\\\00 Python Projects\\\\Scenario_module_1_0\\\\root\\\\data\\\\CA_ISO\\\\20160415_20160416_SLD_FCST_DAM_20201019_18_08_15_v1.csv')\n",
      "(1, 'C:\\\\Users\\\\bradw\\\\Documents\\\\00 HOME Docs\\\\00 Python Projects\\\\Scenario_module_1_0\\\\root\\\\data\\\\CA_ISO\\\\20160415_20160416_SLD_FCST_DAM_20201112_21_09_31_v1.csv')\n",
      "(2, 'C:\\\\Users\\\\bradw\\\\Documents\\\\00 HOME Docs\\\\00 Python Projects\\\\Scenario_module_1_0\\\\root\\\\data\\\\CA_ISO\\\\20171231_20181230_SLD_FCST_DAM_20201019_18_02_12.xml')\n",
      "(3, 'C:\\\\Users\\\\bradw\\\\Documents\\\\00 HOME Docs\\\\00 Python Projects\\\\Scenario_module_1_0\\\\root\\\\data\\\\CA_ISO\\\\20171231_20181230_SLD_FCST_DAM_20201019_18_05_09.xml')\n"
     ]
    },
    {
     "data": {
      "text/plain": [
       "[None, None, None, None]"
      ]
     },
     "execution_count": 8,
     "metadata": {},
     "output_type": "execute_result"
    }
   ],
   "source": [
    "[print(i) for i in enumerate(CAISO_files)]"
   ]
  },
  {
   "cell_type": "code",
   "execution_count": 9,
   "metadata": {},
   "outputs": [
    {
     "name": "stdout",
     "output_type": "stream",
     "text": [
      "<class 'str'>\n"
     ]
    }
   ],
   "source": [
    "print(type(CAISO_files[0]))"
   ]
  },
  {
   "cell_type": "code",
   "execution_count": 3,
   "metadata": {},
   "outputs": [
    {
     "ename": "NameError",
     "evalue": "name 'CAISO_files' is not defined",
     "output_type": "error",
     "traceback": [
      "\u001b[1;31m---------------------------------------------------------------------------\u001b[0m",
      "\u001b[1;31mNameError\u001b[0m                                 Traceback (most recent call last)",
      "\u001b[1;32m<ipython-input-3-d7167bf69438>\u001b[0m in \u001b[0;36m<module>\u001b[1;34m\u001b[0m\n\u001b[1;32m----> 1\u001b[1;33m \u001b[0mdf\u001b[0m \u001b[1;33m=\u001b[0m \u001b[0mpd\u001b[0m\u001b[1;33m.\u001b[0m\u001b[0mread_csv\u001b[0m\u001b[1;33m(\u001b[0m\u001b[0mCAISO_files\u001b[0m\u001b[1;33m[\u001b[0m\u001b[1;36m0\u001b[0m\u001b[1;33m]\u001b[0m\u001b[1;33m)\u001b[0m\u001b[1;33m\u001b[0m\u001b[1;33m\u001b[0m\u001b[0m\n\u001b[0m",
      "\u001b[1;31mNameError\u001b[0m: name 'CAISO_files' is not defined"
     ]
    }
   ],
   "source": [
    "df = pd.read_csv(CAISO_files[0])"
   ]
  },
  {
   "cell_type": "code",
   "execution_count": 2,
   "metadata": {},
   "outputs": [
    {
     "ename": "NameError",
     "evalue": "name 'df' is not defined",
     "output_type": "error",
     "traceback": [
      "\u001b[1;31m---------------------------------------------------------------------------\u001b[0m",
      "\u001b[1;31mNameError\u001b[0m                                 Traceback (most recent call last)",
      "\u001b[1;32m<ipython-input-2-00cf07b74dcd>\u001b[0m in \u001b[0;36m<module>\u001b[1;34m\u001b[0m\n\u001b[1;32m----> 1\u001b[1;33m \u001b[0mdf\u001b[0m\u001b[1;33m\u001b[0m\u001b[1;33m\u001b[0m\u001b[0m\n\u001b[0m",
      "\u001b[1;31mNameError\u001b[0m: name 'df' is not defined"
     ]
    }
   ],
   "source": [
    "df"
   ]
  },
  {
   "cell_type": "markdown",
   "metadata": {},
   "source": [
    "#### Revise CAISO_files index based on desired file"
   ]
  },
  {
   "cell_type": "code",
   "execution_count": 12,
   "metadata": {},
   "outputs": [
    {
     "name": "stdout",
     "output_type": "stream",
     "text": [
      "C:\\Users\\bradw\\Documents\\00 HOME Docs\\00 Python Projects\\Scenario_module_1_0\\root\\data\\CA_ISO\\20160415_20160416_SLD_FCST_DAM_20201019_18_08_15_v1.csv\n"
     ]
    }
   ],
   "source": [
    "full_file = CAISO_files[0]\n",
    "print(full_file)"
   ]
  },
  {
   "cell_type": "markdown",
   "metadata": {},
   "source": [
    "## Define function to parse XML data (INCOMPLETE)"
   ]
  },
  {
   "cell_type": "markdown",
   "metadata": {},
   "source": [
    "##### Option 1"
   ]
  },
  {
   "cell_type": "code",
   "execution_count": 13,
   "metadata": {},
   "outputs": [
    {
     "ename": "ParseError",
     "evalue": "syntax error: line 1, column 0 (<string>)",
     "output_type": "error",
     "traceback": [
      "Traceback \u001b[1;36m(most recent call last)\u001b[0m:\n",
      "  File \u001b[0;32m\"C:\\Users\\bradw\\miniconda3\\lib\\site-packages\\IPython\\core\\interactiveshell.py\"\u001b[0m, line \u001b[0;32m3417\u001b[0m, in \u001b[0;35mrun_code\u001b[0m\n    exec(code_obj, self.user_global_ns, self.user_ns)\n",
      "  File \u001b[0;32m\"<ipython-input-13-53015b8b6794>\"\u001b[0m, line \u001b[0;32m34\u001b[0m, in \u001b[0;35m<module>\u001b[0m\n    r = parseXML(full_file)\n",
      "  File \u001b[0;32m\"<ipython-input-13-53015b8b6794>\"\u001b[0m, line \u001b[0;32m7\u001b[0m, in \u001b[0;35mparseXML\u001b[0m\n    tree = ET.parse(xmlfile)\n",
      "  File \u001b[0;32m\"C:\\Users\\bradw\\miniconda3\\lib\\xml\\etree\\ElementTree.py\"\u001b[0m, line \u001b[0;32m1202\u001b[0m, in \u001b[0;35mparse\u001b[0m\n    tree.parse(source, parser)\n",
      "\u001b[1;36m  File \u001b[1;32m\"C:\\Users\\bradw\\miniconda3\\lib\\xml\\etree\\ElementTree.py\"\u001b[1;36m, line \u001b[1;32m595\u001b[1;36m, in \u001b[1;35mparse\u001b[1;36m\u001b[0m\n\u001b[1;33m    self._root = parser._parse_whole(source)\u001b[0m\n",
      "\u001b[1;36m  File \u001b[1;32m\"<string>\"\u001b[1;36m, line \u001b[1;32munknown\u001b[0m\n\u001b[1;31mParseError\u001b[0m\u001b[1;31m:\u001b[0m syntax error: line 1, column 0\n"
     ]
    }
   ],
   "source": [
    "#https://www.geeksforgeeks.org/xml-parsing-python/\n",
    "#https://docs.python.org/2/library/xml.etree.elementtree.html#supported-xpath-syntax\n",
    "\n",
    "def parseXML(xmlfile): \n",
    "  \n",
    "    # create element tree object \n",
    "    tree = ET.parse(xmlfile) \n",
    "  \n",
    "    # get root element \n",
    "    root = tree.getroot() \n",
    "    print(root)\n",
    "    # create empty list for XML items \n",
    "    XMLitems = [] \n",
    "\n",
    "    # iterate news items \n",
    "    for item in root.findall('*//'): \n",
    "#     for item in root.findall('./MessageHeader/MessagePayload/REPORT_DATA/'):        \n",
    "#    for item in root.findall('./MessageHeader/MessagePayload/REPORT_ITEM/REPORT_HEADER/REPORT_DATA'):  \n",
    "        # empty items dictionary \n",
    "        items = {} \n",
    " \n",
    "        # iterate child elements of item \n",
    "        for child in item: \n",
    "            items[child.tag] = child.text.encode('utf8') \n",
    "  \n",
    "        # append news dictionary to news items list \n",
    "        XMLitems.append(items) \n",
    "    \n",
    "    print(XMLitems)\n",
    "    print(type(XMLitems))\n",
    "    #return news items list \n",
    "    return(XMLitems)\n",
    "\n",
    "r = parseXML(full_file)"
   ]
  },
  {
   "cell_type": "code",
   "execution_count": 13,
   "metadata": {},
   "outputs": [
    {
     "name": "stdout",
     "output_type": "stream",
     "text": [
      "<class 'list'>\n",
      "348007\n",
      "{}\n",
      "{}\n",
      "{}\n",
      "{'{http://www.caiso.com/soa/OASISReport_v1.xsd}name': b'CAISO', '{http://www.caiso.com/soa/OASISReport_v1.xsd}REPORT_ITEM': b'\\n', '{http://www.caiso.com/soa/OASISReport_v1.xsd}DISCLAIMER_ITEM': b'\\n'}\n",
      "{}\n",
      "{'{http://www.caiso.com/soa/OASISReport_v1.xsd}REPORT_HEADER': b'\\n', '{http://www.caiso.com/soa/OASISReport_v1.xsd}REPORT_DATA': b'\\n'}\n",
      "{'{http://www.caiso.com/soa/OASISReport_v1.xsd}SYSTEM': b'OASIS', '{http://www.caiso.com/soa/OASISReport_v1.xsd}TZ': b'PPT', '{http://www.caiso.com/soa/OASISReport_v1.xsd}REPORT': b'PRC_FUEL', '{http://www.caiso.com/soa/OASISReport_v1.xsd}UOM': b'US$', '{http://www.caiso.com/soa/OASISReport_v1.xsd}INTERVAL': b'ENDING', '{http://www.caiso.com/soa/OASISReport_v1.xsd}SEC_PER_INTERVAL': b'3600'}\n",
      "{}\n",
      "{}\n",
      "{}\n",
      "{}\n",
      "{}\n",
      "{}\n",
      "{'{http://www.caiso.com/soa/OASISReport_v1.xsd}DATA_ITEM': b'FUEL_PRC', '{http://www.caiso.com/soa/OASISReport_v1.xsd}RESOURCE_NAME': b'FRAZPS', '{http://www.caiso.com/soa/OASISReport_v1.xsd}OPR_DATE': b'2017-12-31', '{http://www.caiso.com/soa/OASISReport_v1.xsd}INTERVAL_NUM': b'24', '{http://www.caiso.com/soa/OASISReport_v1.xsd}INTERVAL_START_GMT': b'2018-01-01T07:00:00-00:00', '{http://www.caiso.com/soa/OASISReport_v1.xsd}INTERVAL_END_GMT': b'2018-01-01T08:00:00-00:00', '{http://www.caiso.com/soa/OASISReport_v1.xsd}VALUE': b'3.17'}\n",
      "{}\n",
      "{}\n",
      "{}\n",
      "{}\n",
      "{}\n",
      "{}\n"
     ]
    }
   ],
   "source": [
    "print(type(r))\n",
    "print(len(r))\n",
    "for i in r[0:20]:\n",
    "    print(i)\n",
    "#print(r[0:12])\n",
    "#print(r[3]) #This is the CAISO REPORT_ITEM\n",
    "#print(r[6]) #This is the CAISO REPORT_HEADER"
   ]
  },
  {
   "cell_type": "markdown",
   "metadata": {},
   "source": [
    "##### Option 2"
   ]
  },
  {
   "cell_type": "code",
   "execution_count": 17,
   "metadata": {},
   "outputs": [],
   "source": [
    "full_file = QueryAPI('PRC_LMP') #xml1"
   ]
  },
  {
   "cell_type": "code",
   "execution_count": 18,
   "metadata": {},
   "outputs": [
    {
     "ename": "TypeError",
     "evalue": "expected str, bytes or os.PathLike object, not NoneType",
     "output_type": "error",
     "traceback": [
      "\u001b[1;31m---------------------------------------------------------------------------\u001b[0m",
      "\u001b[1;31mTypeError\u001b[0m                                 Traceback (most recent call last)",
      "\u001b[1;32m<ipython-input-18-a8160df3fac5>\u001b[0m in \u001b[0;36m<module>\u001b[1;34m\u001b[0m\n\u001b[0;32m     14\u001b[0m         \u001b[1;31m#print(full_file)\u001b[0m\u001b[1;33m\u001b[0m\u001b[1;33m\u001b[0m\u001b[1;33m\u001b[0m\u001b[0m\n\u001b[0;32m     15\u001b[0m \u001b[1;33m\u001b[0m\u001b[0m\n\u001b[1;32m---> 16\u001b[1;33m \u001b[0mdom\u001b[0m \u001b[1;33m=\u001b[0m \u001b[0mElementTree\u001b[0m\u001b[1;33m.\u001b[0m\u001b[0mparse\u001b[0m\u001b[1;33m(\u001b[0m\u001b[0mfull_file\u001b[0m\u001b[1;33m)\u001b[0m\u001b[1;33m\u001b[0m\u001b[1;33m\u001b[0m\u001b[0m\n\u001b[0m\u001b[0;32m     17\u001b[0m \u001b[1;32mfor\u001b[0m \u001b[0mvalue\u001b[0m \u001b[1;32min\u001b[0m \u001b[0mdom\u001b[0m\u001b[1;33m.\u001b[0m\u001b[0mfindall\u001b[0m\u001b[1;33m(\u001b[0m\u001b[1;34m\"./ns:MessagePayload/ns:RTO/ns:REPORT_ITEM/ns:REPORT_DATA/[ns:RESOURCE_NAME='TH_NP15_GEN-APND']/ns:VALUE\"\u001b[0m\u001b[1;33m,\u001b[0m \u001b[1;33m{\u001b[0m\u001b[1;34m'ns'\u001b[0m\u001b[1;33m:\u001b[0m \u001b[1;34m'http://www.caiso.com/soa/OASISReport_v1.xsd'\u001b[0m\u001b[1;33m}\u001b[0m\u001b[1;33m)\u001b[0m\u001b[1;33m:\u001b[0m\u001b[1;33m\u001b[0m\u001b[1;33m\u001b[0m\u001b[0m\n\u001b[0;32m     18\u001b[0m     \u001b[0mprint\u001b[0m\u001b[1;33m(\u001b[0m\u001b[1;34m\"  \"\u001b[0m \u001b[1;33m+\u001b[0m \u001b[0mvalue\u001b[0m\u001b[1;33m.\u001b[0m\u001b[0mtext\u001b[0m\u001b[1;33m)\u001b[0m\u001b[1;33m\u001b[0m\u001b[1;33m\u001b[0m\u001b[0m\n",
      "\u001b[1;32m~\\miniconda3\\lib\\xml\\etree\\ElementTree.py\u001b[0m in \u001b[0;36mparse\u001b[1;34m(source, parser)\u001b[0m\n\u001b[0;32m   1195\u001b[0m     \"\"\"\n\u001b[0;32m   1196\u001b[0m     \u001b[0mtree\u001b[0m \u001b[1;33m=\u001b[0m \u001b[0mElementTree\u001b[0m\u001b[1;33m(\u001b[0m\u001b[1;33m)\u001b[0m\u001b[1;33m\u001b[0m\u001b[1;33m\u001b[0m\u001b[0m\n\u001b[1;32m-> 1197\u001b[1;33m     \u001b[0mtree\u001b[0m\u001b[1;33m.\u001b[0m\u001b[0mparse\u001b[0m\u001b[1;33m(\u001b[0m\u001b[0msource\u001b[0m\u001b[1;33m,\u001b[0m \u001b[0mparser\u001b[0m\u001b[1;33m)\u001b[0m\u001b[1;33m\u001b[0m\u001b[1;33m\u001b[0m\u001b[0m\n\u001b[0m\u001b[0;32m   1198\u001b[0m     \u001b[1;32mreturn\u001b[0m \u001b[0mtree\u001b[0m\u001b[1;33m\u001b[0m\u001b[1;33m\u001b[0m\u001b[0m\n\u001b[0;32m   1199\u001b[0m \u001b[1;33m\u001b[0m\u001b[0m\n",
      "\u001b[1;32m~\\miniconda3\\lib\\xml\\etree\\ElementTree.py\u001b[0m in \u001b[0;36mparse\u001b[1;34m(self, source, parser)\u001b[0m\n\u001b[0;32m    585\u001b[0m         \u001b[0mclose_source\u001b[0m \u001b[1;33m=\u001b[0m \u001b[1;32mFalse\u001b[0m\u001b[1;33m\u001b[0m\u001b[1;33m\u001b[0m\u001b[0m\n\u001b[0;32m    586\u001b[0m         \u001b[1;32mif\u001b[0m \u001b[1;32mnot\u001b[0m \u001b[0mhasattr\u001b[0m\u001b[1;33m(\u001b[0m\u001b[0msource\u001b[0m\u001b[1;33m,\u001b[0m \u001b[1;34m\"read\"\u001b[0m\u001b[1;33m)\u001b[0m\u001b[1;33m:\u001b[0m\u001b[1;33m\u001b[0m\u001b[1;33m\u001b[0m\u001b[0m\n\u001b[1;32m--> 587\u001b[1;33m             \u001b[0msource\u001b[0m \u001b[1;33m=\u001b[0m \u001b[0mopen\u001b[0m\u001b[1;33m(\u001b[0m\u001b[0msource\u001b[0m\u001b[1;33m,\u001b[0m \u001b[1;34m\"rb\"\u001b[0m\u001b[1;33m)\u001b[0m\u001b[1;33m\u001b[0m\u001b[1;33m\u001b[0m\u001b[0m\n\u001b[0m\u001b[0;32m    588\u001b[0m             \u001b[0mclose_source\u001b[0m \u001b[1;33m=\u001b[0m \u001b[1;32mTrue\u001b[0m\u001b[1;33m\u001b[0m\u001b[1;33m\u001b[0m\u001b[0m\n\u001b[0;32m    589\u001b[0m         \u001b[1;32mtry\u001b[0m\u001b[1;33m:\u001b[0m\u001b[1;33m\u001b[0m\u001b[1;33m\u001b[0m\u001b[0m\n",
      "\u001b[1;31mTypeError\u001b[0m: expected str, bytes or os.PathLike object, not NoneType"
     ]
    }
   ],
   "source": [
    "#!/usr/bin/env python3\n",
    "#Make sure the file is executable if you plan to run it as a module\n",
    "#>>>./parse2.py Data/Raw/\n",
    "import os\n",
    "import sys\n",
    "from xml.etree import ElementTree\n",
    "import csv\n",
    "\n",
    "#directory = sys.argv[1]\n",
    "\n",
    "#for file_name in os.listdir(directory):\n",
    "    #if file_name.endswith('.xml'):\n",
    "        #full_file = os.path.join(directory, file_name)\n",
    "        #print(full_file)\n",
    "\n",
    "dom = ElementTree.parse(full_file)\n",
    "for value in dom.findall(\"./ns:MessagePayload/ns:RTO/ns:REPORT_ITEM/ns:REPORT_DATA/[ns:RESOURCE_NAME='TH_NP15_GEN-APND']/ns:VALUE\", {'ns': 'http://www.caiso.com/soa/OASISReport_v1.xsd'}):\n",
    "    print(\"  \" + value.text)\n",
    "    \n",
    "ns='{http://www.caiso.com/soa/OASISReport_v1.xsd}'\n",
    "file_index=0\n",
    "# for file_name in os.listdir(directory):\n",
    "#     if file_name.endswith('.xml'):\n",
    "#         file_index+=1\n",
    "#         full_file = os.path.join(directory, file_name)\n",
    "\n",
    "#         print(full_file)\n",
    "#         tree = ElementTree.parse(full_file)\n",
    "#         root = tree.getroot()\n",
    "#         print(root.tag)\n",
    "#         target_filename='target_'+str(file_index)+'.csv'\n",
    "\n",
    "#         print('Processing file ' + str(file_index))\n",
    "\n",
    "with open(dom, 'w', newline='') as r:\n",
    "    writer = csv.writer(r)\n",
    "    writer.writerow(['RTO', 'MARKET TYPE', 'DATA ITEM', 'PRICE','LOCATION','START TIME','END TIME'])  # WRITING HEADERS\n",
    "    #for child in root:\n",
    "        #print (child.tag)\n",
    "\n",
    "    for message in root.findall(ns+'MessagePayload'):\n",
    "        for rto in message.findall(ns+'RTO'):\n",
    "            name = rto.find(ns+'name').text    \n",
    "            for item in rto.findall(ns+'REPORT_ITEM'):\n",
    "                for header in item.findall(ns+'REPORT_HEADER'):\n",
    "                    mkt = header.find(ns+'MKT_TYPE').text\n",
    "                for reportdata in item.findall(ns+'REPORT_DATA'):\n",
    "                    dataitem = reportdata.find(ns+'DATA_ITEM').text\n",
    "                    price = reportdata.find(ns+'VALUE').text  \n",
    "                    resource = reportdata.find(ns+'RESOURCE_NAME').text\n",
    "                    starttime = reportdata.find(ns+'INTERVAL_START_GMT').text\n",
    "                    endtime = reportdata.find(ns+'INTERVAL_END_GMT').text\n",
    "                    writer.writerow([name,mkt,dataitem,price,resource,starttime,endtime])"
   ]
  },
  {
   "cell_type": "markdown",
   "metadata": {},
   "source": [
    "## Saving data to a local csv"
   ]
  },
  {
   "cell_type": "code",
   "execution_count": null,
   "metadata": {},
   "outputs": [],
   "source": [
    "def savetoCSV(newsitems, filename): \n",
    "  \n",
    "    # specifying the fields for csv file \n",
    "    fields = ['guid', 'title', 'pubDate', 'description', 'link', 'media'] \n",
    "  \n",
    "    # writing to csv file \n",
    "    with open(filename, 'w') as csvfile: \n",
    "  \n",
    "        # creating a csv dict writer object \n",
    "        writer = csv.DictWriter(csvfile, fieldnames = fields) \n",
    "  \n",
    "        # writing headers (field names) \n",
    "        writer.writeheader() \n",
    "  \n",
    "        # writing data rows \n",
    "        writer.writerows(newsitems) "
   ]
  }
 ],
 "metadata": {
  "kernelspec": {
   "display_name": "Python 3",
   "language": "python",
   "name": "python3"
  },
  "language_info": {
   "codemirror_mode": {
    "name": "ipython",
    "version": 3
   },
   "file_extension": ".py",
   "mimetype": "text/x-python",
   "name": "python",
   "nbconvert_exporter": "python",
   "pygments_lexer": "ipython3",
   "version": "3.8.3"
  }
 },
 "nbformat": 4,
 "nbformat_minor": 4
}
